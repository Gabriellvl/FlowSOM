{
 "cells": [
  {
   "cell_type": "markdown",
   "metadata": {},
   "source": [
    "# Example FlowSOM Pipeline\n"
   ]
  },
  {
   "cell_type": "markdown",
   "metadata": {},
   "source": [
    "This vignette describes a protocol for analyzing high-dimensional cytometry\n",
    "data using FlowSOM, a clustering and visualization algorithm based\n",
    "on a self-organizing map (SOM). FlowSOM is used to distinguish cell populations\n",
    "from cytometry data in an unsupervised way and can help to gain deeper insights\n",
    "in fields such as immunology and oncology.\n"
   ]
  },
  {
   "cell_type": "markdown",
   "metadata": {},
   "source": [
    "## Loading in the data\n",
    "\n",
    "FlowSOM handles different inputs, such as an anndata object by pytometry or a filepath. For this purpose we will make use of an anndata object. This allows\n",
    "easier preprocessing.\n"
   ]
  },
  {
   "cell_type": "code",
   "execution_count": 63,
   "metadata": {},
   "source": [
    "# Import modules\n",
    "import flowsom as fs\n",
    "import pytometry as pm\n",
    "import scanpy as sc\n",
    "import csv\n",
    "import numpy as np\n",
    "import matplotlib.pyplot as plt"
   ],
   "outputs": []
  },
  {
   "cell_type": "code",
   "execution_count": 64,
   "metadata": {},
   "source": [
    "# Load data\n",
    "ff = fs.io.read_FCS(\"../../tests/data/not_preprocessed.fcs\")\n",
    "ff"
   ],
   "outputs": []
  },
  {
   "cell_type": "markdown",
   "metadata": {},
   "source": [
    "We can get an overview of the most important data in our anndata object by using `var`. All the metadata is stored in a dictionary at `ff.uns[\"meta]`\n"
   ]
  },
  {
   "cell_type": "code",
   "execution_count": 65,
   "metadata": {},
   "source": [
    "ff.var"
   ],
   "outputs": []
  },
  {
   "cell_type": "code",
   "execution_count": 66,
   "metadata": {},
   "source": [
    "ff.uns[\"meta\"].keys()"
   ],
   "outputs": []
  },
  {
   "cell_type": "markdown",
   "metadata": {},
   "source": [
    "Additionaly we can read in a csv file as well.\n"
   ]
  },
  {
   "cell_type": "code",
   "execution_count": 67,
   "metadata": {},
   "source": [
    "ff_csv = fs.io.read_csv(\"../../tests/data/fcs.csv\")\n",
    "ff_csv"
   ],
   "outputs": []
  },
  {
   "cell_type": "markdown",
   "metadata": {},
   "source": [
    "The `FlowSOM` function accepts an anndata object or a filepath to a fcs or csv file. The `FlowSOM` function will return a `FlowSOM` mudata object. This object contains all the information about the SOM and the clustering.\n"
   ]
  },
  {
   "cell_type": "code",
   "execution_count": 68,
   "metadata": {},
   "source": [
    "# Visualize data\n",
    "sc.pl.scatter(ff, x=\"CD4\", y=\"CD8\", color=\"CD8\", size=2)"
   ],
   "outputs": []
  },
  {
   "cell_type": "markdown",
   "metadata": {},
   "source": [
    "## Preprocessing\n",
    "\n",
    "We start with compensating the data and then we transform\n",
    "the data with the logicle function. For CyTOF data an arcsinh transformation is\n",
    "preferred which is also found in the pytometry package. Besides\n",
    "compensation and transformation, we also recommend cleaning the data by removing\n",
    "margin events and by using cleaning algorithms.\n"
   ]
  },
  {
   "cell_type": "code",
   "execution_count": 69,
   "metadata": {},
   "source": [
    "# Compensate\n",
    "ff_comp = pm.pp.compensate(ff, inplace=False)\n",
    "\n",
    "# Transform\n",
    "cols_to_use = [8, 11, 13, 14, 15, 16, 17]\n",
    "ff_t = fs.pp.normalize_estimate_logicle(ff_comp, cols_to_use)"
   ],
   "outputs": []
  },
  {
   "cell_type": "code",
   "execution_count": 70,
   "metadata": {},
   "source": [
    "# Visualize data\n",
    "ax = plt.hist2d(ff_t[:, \"CD4\"].X.flatten(), ff_t[:, \"CD8\"].X.flatten(), bins=200, cmin=1, cmap=\"jet\")\n",
    "plt.xlabel(\"CD4\")\n",
    "plt.ylabel(\"CD8\")\n",
    "plt.show()"
   ],
   "outputs": []
  },
  {
   "cell_type": "markdown",
   "metadata": {},
   "source": [
    "# FlowSOM\n",
    "\n",
    "The easiest way to use this package is using the wrapper function\n",
    "FlowSOM, although it has less options than using the underlying functions separately. It holds the data in a MuData object, of which the first\n",
    "modality is the cell data and the second modality is the cluster data. We will\n",
    "cluster the data with a 10 x 10 SOM grid and 10 metaclusters. Notice that due to the\n",
    "just-in-time compilation of numba, the first run of FlowSOM can take a while and\n",
    "the subsequent runs will be much faster. We also set the seed here to make sure the analysis is deterministic and reproducible."
   ]
  },
  {
   "cell_type": "code",
   "execution_count": 71,
   "metadata": {},
   "source": [
    "fsom = fs.FlowSOM(ff_t.copy(), cols_to_use=cols_to_use, n_clusters=10, xdim=10, ydim=10, seed=42)"
   ],
   "outputs": []
  },
  {
   "cell_type": "markdown",
   "metadata": {},
   "source": [
    "We can inspect the underlying model and can see it's like any other scikit-learn model. The FlowSOM estimator first overclusters using a `cluster_model` (Self-Organizing Map). Then it uses a `metacluster_model` (Consensus Agglomerative Clustering) to merge the clusters into metaclusters."
   ]
  },
  {
   "cell_type": "code",
   "execution_count": 72,
   "metadata": {},
   "source": [
    "fsom.model"
   ],
   "outputs": []
  },
  {
   "cell_type": "markdown",
   "metadata": {},
   "source": [
    "The output is stored in a MuData object, containing two AnnData object: `cell_data` (n_cells x n_features) and `cluster_data` (n_SOM_nodes x n_features)."
   ]
  },
  {
   "cell_type": "code",
   "execution_count": 73,
   "metadata": {},
   "source": [
    "fsom.mudata"
   ],
   "outputs": []
  },
  {
   "cell_type": "markdown",
   "metadata": {},
   "source": [
    "We can access the cell data and the cluster data with the `get_cell_data()` and\n",
    "`get_cluster_data()` functions.\n",
    "\n",
    "The _cell data_ is an anndata object that contains\n",
    "the original cell data. As observations, we find the clustering, metaclustering\n",
    "and distance to best matching unit per cell. In var, we find the pretty colnames,\n",
    "i.e. a combination of markers and channels, the markers, the channels and a\n",
    "boolean mask of the columns used for clustering. n_nodes and n_metaclusters in\n",
    "uns contain the number of clusters and metaclusters respectively.\n"
   ]
  },
  {
   "cell_type": "code",
   "execution_count": 74,
   "metadata": {},
   "source": [
    "fsom.get_cell_data()"
   ],
   "outputs": []
  },
  {
   "cell_type": "markdown",
   "metadata": {},
   "source": [
    "The _cluster data_ contains the original median values per cluster per marker.\n",
    "In obsm, we find the cv values, sd values, mad values, coordinates of the nodes,\n",
    "coordinates of the the grid and the coordinates of the MST layout.\n",
    "The xdim, ydim, outliers, igraph object and metacluster MFIs can be found in uns.\n"
   ]
  },
  {
   "cell_type": "code",
   "execution_count": 75,
   "metadata": {},
   "source": [
    "fsom.get_cluster_data()"
   ],
   "outputs": []
  },
  {
   "cell_type": "code",
   "execution_count": 76,
   "metadata": {},
   "source": [
    "fsom.get_cell_data().var"
   ],
   "outputs": []
  },
  {
   "cell_type": "markdown",
   "metadata": {},
   "source": [
    "## flowsom_clustering\n",
    "\n",
    "Alternatively to working with this FlowSOM object, we can simply add the FlowSOM clustering and metaclustering to an existing AnnData object. The convenience function `flowsom_clustering` is available and is similar to other clustering methods in the scverse. The FlowSOM\n",
    "clustering and metaclustering can be found in `.obs` and the parameters used in the\n",
    "FlowSOM clustering in `.uns.FlowSOM`."
   ]
  },
  {
   "cell_type": "code",
   "execution_count": 97,
   "metadata": {},
   "source": [
    "ff_clustered = fs.flowsom_clustering(ff_t, cols_to_use, xdim=10, ydim=10, n_clusters=10, seed=42)\n",
    "ff_clustered"
   ],
   "outputs": []
  },
  {
   "cell_type": "markdown",
   "metadata": {},
   "source": [
    "## FlowSOM visualizations\n",
    "\n",
    "A FlowSOM object can be visualized with the `plot_stars()` function\n"
   ]
  },
  {
   "cell_type": "code",
   "execution_count": 78,
   "metadata": {},
   "source": [
    "p = fs.pl.plot_stars(fsom, background_values=fsom.get_cluster_data().obs.metaclustering)"
   ],
   "outputs": []
  },
  {
   "cell_type": "markdown",
   "metadata": {},
   "source": [
    "We can also visualize the grid, to reduce overlap and get a better view of the data.\n",
    "The node sizes of the nodes and/or the background nodes can be made equal with the equal_node_size or equal_background_size argument\n"
   ]
  },
  {
   "cell_type": "code",
   "execution_count": 79,
   "metadata": {},
   "source": [
    "p = fs.pl.plot_stars(\n",
    "    fsom,\n",
    "    background_values=fsom.get_cluster_data().obs.metaclustering,\n",
    "    view=\"grid\",\n",
    "    equal_node_size=True,\n",
    "    equal_background_size=True,\n",
    ")"
   ],
   "outputs": []
  },
  {
   "cell_type": "markdown",
   "metadata": {},
   "source": [
    "If you have a label for every cell, we can visualize this with `plot_pies()`.\n",
    "Here every node is a piechart with the percentage of cells in each cluster.\n"
   ]
  },
  {
   "cell_type": "code",
   "execution_count": 80,
   "metadata": {},
   "source": [
    "# Read in that data\n",
    "file = open(\"../../tests/data/gating_result.csv\")\n",
    "data = csv.reader(file)\n",
    "data = [i[0] for i in data]\n",
    "\n",
    "# Plot\n",
    "p = fs.pl.plot_pies(fsom, data, background_values=fsom.get_cluster_data().obs.metaclustering)"
   ],
   "outputs": []
  },
  {
   "cell_type": "markdown",
   "metadata": {},
   "source": [
    "We can also visualize the cluster numbers or metacluster numbers with the help of\n",
    "`plot_numbers()`, if `level=\"clusters\"` or `level=\"metaclusters\"`, respectively.\n",
    "This functions uses `plot_labels()` internally, to which one can pass custom labels,\n",
    "such as the cell type labels.\n"
   ]
  },
  {
   "cell_type": "code",
   "execution_count": 81,
   "metadata": {},
   "source": [
    "p = fs.pl.plot_numbers(fsom, level=\"clusters\", text_size=5)"
   ],
   "outputs": []
  },
  {
   "cell_type": "markdown",
   "metadata": {},
   "source": [
    "It is possible to visualize one marker on a FlowSOM tree with the `plot_marker()`\n",
    "function. This function uses the `plot_variable()` function internally, to which\n",
    "one can pass custom variables, such as the cell type labels.\n"
   ]
  },
  {
   "cell_type": "code",
   "execution_count": 82,
   "metadata": {},
   "source": [
    "p = fs.pl.plot_marker(fsom, marker=np.array([\"CD3\"]))"
   ],
   "outputs": []
  },
  {
   "cell_type": "markdown",
   "metadata": {},
   "source": [
    "We can also visualize the clusters and metaclusters on a 2D scatter plot with\n",
    "`plot_2D_scatters()`.\n"
   ]
  },
  {
   "cell_type": "code",
   "execution_count": 83,
   "metadata": {},
   "source": [
    "p = fs.pl.plot_2D_scatters(\n",
    "    fsom,\n",
    "    channelpairs=[[\"CD3\", \"CD4\"], [\"CD19\", \"TCRb\"]],\n",
    "    clusters=[[1, 2], [3]],\n",
    "    metaclusters=[[4], [5, 6]],\n",
    "    density=True,\n",
    "    centers=True,\n",
    ")"
   ],
   "outputs": []
  },
  {
   "cell_type": "markdown",
   "metadata": {},
   "source": [
    "# Downstream analysis\n",
    "\n",
    "We might need the percentages, counts or the percentages\n",
    "of positive cells per cluster or metacluster and per file for further analysis.\n",
    "This can be done with the `get_features()` function. This function returns a\n",
    "dictionary containing pandas of the requested data.\n"
   ]
  },
  {
   "cell_type": "code",
   "execution_count": 84,
   "metadata": {},
   "source": [
    "features = fs.tl.get_features(\n",
    "    fsom,\n",
    "    files=[ff_t[1:1000, :], ff_t[1000:2000, :]],\n",
    "    level=[\"clusters\", \"metaclusters\"],\n",
    "    type=[\"counts\", \"percentages\"],\n",
    ")\n",
    "features[\"metacluster_percentages\"]"
   ],
   "outputs": []
  },
  {
   "cell_type": "markdown",
   "metadata": {},
   "source": [
    "The counts, percentages, percentages_positive, per cluster or metacluser can also\n",
    "extracted from a FlowSOM object. For this we can use `get_counts()`, `get_percentages()`,\n",
    "`get_cluster_percentages_positive()` or `get_metacluster_percentages_positive`, respectively.\n"
   ]
  },
  {
   "cell_type": "code",
   "execution_count": 85,
   "metadata": {},
   "source": [
    "fs.tl.get_counts(fsom, level=\"clusters\")"
   ],
   "outputs": []
  },
  {
   "cell_type": "markdown",
   "metadata": {},
   "source": [
    "At last it is also possible to visualize a UMAP colored by the metaclustering or the expression of a marker. For this we will use `scanpy`.\n"
   ]
  },
  {
   "cell_type": "code",
   "execution_count": 86,
   "metadata": {},
   "source": [
    "# Get subset of the cell data\n",
    "ref_markers_bool = fsom.get_cell_data().var[\"cols_used\"]\n",
    "subset_fsom = fsom.get_cell_data()[\n",
    "    np.random.choice(range(fsom.get_cell_data().shape[0]), 5000, replace=False),\n",
    "    fsom.get_cell_data().var_names[ref_markers_bool],\n",
    "]\n",
    "sc.pp.neighbors(subset_fsom)\n",
    "sc.tl.umap(subset_fsom)"
   ],
   "outputs": []
  },
  {
   "cell_type": "code",
   "execution_count": 87,
   "metadata": {},
   "source": [
    "# By metaclustering\n",
    "subset_fsom.obs[\"metaclustering\"] = subset_fsom.obs[\"metaclustering\"].astype(str)\n",
    "sc.pl.umap(subset_fsom, color=\"metaclustering\")"
   ],
   "outputs": []
  },
  {
   "cell_type": "code",
   "execution_count": 88,
   "metadata": {},
   "source": [
    "# By markers\n",
    "sc.pl.umap(subset_fsom, color=fsom.get_cell_data().var_names[ref_markers_bool])"
   ],
   "outputs": []
  },
  {
   "cell_type": "markdown",
   "metadata": {},
   "source": [
    "# Other interesting functions\n",
    "\n",
    "To get the markers or channels from the corresponding channels or markers of an FCS or a FlowSOM object, we can use `get_markers()` or `get_channels()`.\n",
    "\n",
    "newdata\n",
    "subset\n"
   ]
  },
  {
   "cell_type": "code",
   "execution_count": 89,
   "metadata": {},
   "source": [
    "fs.tl.get_channels(ff_t, np.array([\"CD3\", \"CD4\"]))"
   ],
   "outputs": []
  },
  {
   "cell_type": "code",
   "execution_count": 90,
   "metadata": {},
   "source": [
    "fs.tl.get_markers(fsom, np.array([\"PE-A\", \"PE-Cy7-A\"]))"
   ],
   "outputs": []
  },
  {
   "cell_type": "markdown",
   "metadata": {},
   "source": [
    "We can also merge multiple FCS files with random subsampling\n",
    "with the function `aggregate_flowframes()`.\n"
   ]
  },
  {
   "cell_type": "code",
   "execution_count": 91,
   "metadata": {},
   "source": [
    "fs.pp.aggregate_flowframes(\n",
    "    filenames=[\n",
    "        \"../../tests/data/not_preprocessed.fcs\",\n",
    "        \"../../tests/data/not_preprocessed.fcs\",\n",
    "    ],\n",
    "    c_total=5000,\n",
    ")"
   ],
   "outputs": []
  },
  {
   "cell_type": "markdown",
   "metadata": {},
   "source": [
    "To map new data on an existing FlowSOM object, we can use the `new_data()` function.\n"
   ]
  },
  {
   "cell_type": "code",
   "execution_count": 92,
   "metadata": {},
   "source": [
    "fsom_new = fsom.new_data(ff_t[1:200, :])\n",
    "p = fs.pl.plot_stars(fsom_new, background_values=fsom_new.get_cluster_data().obs.metaclustering)"
   ],
   "outputs": []
  },
  {
   "cell_type": "markdown",
   "metadata": {},
   "source": [
    "We can also take a subset of a FlowSOM object. For this we use the `subset()` function.\n"
   ]
  },
  {
   "cell_type": "code",
   "execution_count": 95,
   "metadata": {},
   "source": [
    "fsom_subset = fsom.subset(fsom.get_cell_data().obs[\"metaclustering\"] == 2)\n",
    "p = fs.pl.plot_stars(fsom_subset, background_values=fsom_subset.get_cluster_data().obs.metaclustering)"
   ],
   "outputs": []
  }
 ],
 "metadata": {
  "kernelspec": {
   "display_name": "Python 3.9.12 ('squidpy39')",
   "language": "python",
   "name": "python3"
  },
  "language_info": {
   "codemirror_mode": {
    "name": "ipython",
    "version": 3
   },
   "file_extension": ".py",
   "mimetype": "text/x-python",
   "name": "python",
   "nbconvert_exporter": "python",
   "pygments_lexer": "ipython3",
   "version": "3.12.2"
  },
  "vscode": {
   "interpreter": {
    "hash": "ae6466e8d4f517858789b5c9e8f0ed238fb8964458a36305fca7bddc149e9c64"
   }
  }
 },
 "nbformat": 4,
 "nbformat_minor": 4
}
